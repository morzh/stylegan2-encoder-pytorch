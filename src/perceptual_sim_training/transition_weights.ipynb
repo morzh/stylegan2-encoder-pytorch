{
 "cells": [
  {
   "cell_type": "code",
   "execution_count": 1,
   "metadata": {},
   "outputs": [],
   "source": [
    "import torch\n",
    "import os\n",
    "import sys\n",
    "import re\n",
    "from shutil import copyfile\n",
    "import numpy as np"
   ]
  },
  {
   "cell_type": "markdown",
   "metadata": {},
   "source": [
    "# Transitions weights of model tined on the 2AFC dataset to the loss provider."
   ]
  },
  {
   "cell_type": "code",
   "execution_count": 2,
   "metadata": {},
   "outputs": [],
   "source": [
    "def params_remove_prefix(params):\n",
    "    old_keys = list(params.keys())\n",
    "    for k in old_keys:\n",
    "        params[k[4:]] = params[k]\n",
    "        params.pop(k)\n",
    "    return params"
   ]
  },
  {
   "cell_type": "code",
   "execution_count": 3,
   "metadata": {},
   "outputs": [],
   "source": [
    "weight_dirs = os.listdir('./checkpoints/')\n",
    "weight_dirs.remove('.gitignore')\n",
    "\n",
    "for weight_dir in weight_dirs:\n",
    "    path=os.path.join('./checkpoints/', weight_dir, 'latest_net_.pth')\n",
    "    state_dict = torch.load(path, map_location='cpu')\n",
    "    if not('pnet_lin' in weight_dir):\n",
    "        state_dict = params_remove_prefix(state_dict)\n",
    "    torch.save(state_dict, os.path.join('../loss/weights', weight_dir + '.pth'))"
   ]
  }
 ],
 "metadata": {
  "kernelspec": {
   "display_name": "Python 3.6.8 64-bit ('venv-perceptual-sim2': virtualenv)",
   "language": "python",
   "name": "python36864bitvenvperceptualsim2virtualenv04c3fa8e29ed4e2aa1227ebee311e9b1"
  },
  "language_info": {
   "codemirror_mode": {
    "name": "ipython",
    "version": 3
   },
   "file_extension": ".py",
   "mimetype": "text/x-python",
   "name": "python",
   "nbconvert_exporter": "python",
   "pygments_lexer": "ipython3",
   "version": "3.6.8"
  }
 },
 "nbformat": 4,
 "nbformat_minor": 2
}
